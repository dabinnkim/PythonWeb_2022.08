{
  "nbformat": 4,
  "nbformat_minor": 0,
  "metadata": {
    "colab": {
      "name": "04.Genie Chart",
      "provenance": [],
      "collapsed_sections": [],
      "authorship_tag": "ABX9TyMBElUIr6L01pgq6W44ZDb2",
      "include_colab_link": true
    },
    "kernelspec": {
      "name": "python3",
      "display_name": "Python 3"
    },
    "language_info": {
      "name": "python"
    }
  },
  "cells": [
    {
      "cell_type": "markdown",
      "metadata": {
        "id": "view-in-github",
        "colab_type": "text"
      },
      "source": [
        "<a href=\"https://colab.research.google.com/github/dabinnkim/PythonWeb_2022.08/blob/main/Genie_Chart.ipynb\" target=\"_parent\"><img src=\"https://colab.research.google.com/assets/colab-badge.svg\" alt=\"Open In Colab\"/></a>"
      ]
    },
    {
      "cell_type": "markdown",
      "source": [
        "#Genie Top 50 Chart\n",
        "-여러 페이지에 있는 데이터 가져오기"
      ],
      "metadata": {
        "id": "CXbsiHrq_sPr"
      }
    },
    {
      "cell_type": "code",
      "source": [
        "import requests\n",
        "import pandas as pd\n",
        "from bs4 import BeautifulSoup"
      ],
      "metadata": {
        "id": "gVvSlpVjAFwk"
      },
      "execution_count": 18,
      "outputs": []
    },
    {
      "cell_type": "code",
      "source": [
        "import requests\n",
        "url='https://www.genie.co.kr/chart/top200'\n",
        "req=requests.get(url)\n",
        "req.text\n",
        "#아무결과도 안나옴"
      ],
      "metadata": {
        "colab": {
          "base_uri": "https://localhost:8080/",
          "height": 90
        },
        "id": "Br0YM9rQgJTx",
        "outputId": "cbaa3562-f0da-496b-ed67-fdffce0d69fc"
      },
      "execution_count": 19,
      "outputs": [
        {
          "output_type": "execute_result",
          "data": {
            "text/plain": [
              "'<br>\\r\\n<br>\\r\\n<center>\\r\\n<img src=\"http://www.geniemusic.co.kr/images/common/logo_r1.png\"><br>\\r\\n<h2> <meta http-equiv=\"Content-Type\" content=\"text/html;charset=UTF-8\"> ì\\xa0\\x91ì\\x86\\x8dì\\x9a\\x94ì²\\xadì\\x9d´ ë³´ì\\x95\\x88ì\\xa0\\x95ì±\\x85ì\\x97\\x90 ì\\x9d\\x98í\\x95´ ì°¨ë\\x8b¨ë\\x90\\x98ì\\x97\\x88ì\\x8aµë\\x8b\\x88ë\\x8b¤. ë\\x8b¹ì\\x82¬ ê³\\xa0ê°\\x9dì\\x84¼í\\x84°ë¡\\x9c ë¬¸ì\\x9d\\x98í\\x95´ì£¼ì\\x8b\\xadì\\x8b\\x9cì\\x98¤.<br><br>\\r\\nThe security policy of the connection request is blocked. Contact your customer service representative.<br><br>\\r\\nì§\\x80ë\\x8b\\x88ë®¤ì§\\x81 ê³\\xa0ê°\\x9dì\\x84¼í\\x84° 1577-5337<br><br>\\r\\n</h2>\\r\\n</center>\\r\\n<br>'"
            ],
            "application/vnd.google.colaboratory.intrinsic+json": {
              "type": "string"
            }
          },
          "metadata": {},
          "execution_count": 19
        }
      ]
    },
    {
      "cell_type": "code",
      "source": [
        "#나는 사람이에요 기계가 아님\n",
        "header={'User-Agent':'Mozilla/5.0 (Windows NT 10.0; Win64; x64) AppleWebKit/537.36 (KHTML, like Gecko) Chrome/103.0.5060.134 Safari/537.36 Edg/103.0.1264.77'}\n",
        "req=requests.get(url,headers=header)\n",
        "req"
      ],
      "metadata": {
        "colab": {
          "base_uri": "https://localhost:8080/"
        },
        "id": "Iad3w-sGgPQF",
        "outputId": "d46f9e5e-2449-405e-9aad-466dbb1dd446"
      },
      "execution_count": 20,
      "outputs": [
        {
          "output_type": "execute_result",
          "data": {
            "text/plain": [
              "<Response [200]>"
            ]
          },
          "metadata": {},
          "execution_count": 20
        }
      ]
    },
    {
      "cell_type": "code",
      "source": [
        "soup=BeautifulSoup(req.text,'html.parser')"
      ],
      "metadata": {
        "id": "ISH0peWIgP23"
      },
      "execution_count": 21,
      "outputs": []
    },
    {
      "cell_type": "code",
      "source": [
        "#원하는 목록 찾기\n",
        "\n",
        "trs=soup.select('.music-list-wrap > table > tbody > tr') #클래스이름 띄어쓰기는 .로 바꿔야함(스페이스 기준으로 클래스가 3개있는것)/괄호안에 클래스명을 가져와야함\n",
        "len(trs)"
      ],
      "metadata": {
        "colab": {
          "base_uri": "https://localhost:8080/"
        },
        "id": "MDpSS2ftgU6W",
        "outputId": "60e9f91a-e1ba-4fe4-9f73-989f0466c97f"
      },
      "execution_count": 22,
      "outputs": [
        {
          "output_type": "execute_result",
          "data": {
            "text/plain": [
              "50"
            ]
          },
          "metadata": {},
          "execution_count": 22
        }
      ]
    },
    {
      "cell_type": "code",
      "source": [
        "tr=trs[0]"
      ],
      "metadata": {
        "id": "18H9hHIZgWJ_"
      },
      "execution_count": 23,
      "outputs": []
    },
    {
      "cell_type": "code",
      "source": [
        "#순위\n",
        "\n",
        "rank=tr.select_one('.number').get_text().strip()\n",
        "rank"
      ],
      "metadata": {
        "colab": {
          "base_uri": "https://localhost:8080/",
          "height": 35
        },
        "id": "brzPTwXwhnm1",
        "outputId": "eed5af85-38db-41f4-a151-32e1f721e644"
      },
      "execution_count": 24,
      "outputs": [
        {
          "output_type": "execute_result",
          "data": {
            "text/plain": [
              "'1\\n                                        \\n                                    \\n유지'"
            ],
            "application/vnd.google.colaboratory.intrinsic+json": {
              "type": "string"
            }
          },
          "metadata": {},
          "execution_count": 24
        }
      ]
    },
    {
      "cell_type": "code",
      "source": [
        "rank.split('\\n')[0]"
      ],
      "metadata": {
        "colab": {
          "base_uri": "https://localhost:8080/",
          "height": 35
        },
        "id": "SdKD-KZh7T4C",
        "outputId": "34fc15aa-9f9b-4ab5-8f72-533634299ee2"
      },
      "execution_count": 25,
      "outputs": [
        {
          "output_type": "execute_result",
          "data": {
            "text/plain": [
              "'1'"
            ],
            "application/vnd.google.colaboratory.intrinsic+json": {
              "type": "string"
            }
          },
          "metadata": {},
          "execution_count": 25
        }
      ]
    },
    {
      "cell_type": "code",
      "source": [
        "rank=int(tr.select_one('.number').get_text().strip().split('\\n')[0])\n",
        "rank"
      ],
      "metadata": {
        "colab": {
          "base_uri": "https://localhost:8080/"
        },
        "id": "xtp1oZ6k7sry",
        "outputId": "d794d7e8-0281-404f-da4d-ba2f459ca5eb"
      },
      "execution_count": 26,
      "outputs": [
        {
          "output_type": "execute_result",
          "data": {
            "text/plain": [
              "1"
            ]
          },
          "metadata": {},
          "execution_count": 26
        }
      ]
    },
    {
      "cell_type": "code",
      "source": [
        "#제목\n",
        "\n",
        "title=tr.select_one('.title.ellipsis').get_text().strip()\n",
        "title"
      ],
      "metadata": {
        "colab": {
          "base_uri": "https://localhost:8080/",
          "height": 35
        },
        "id": "am8FDOdU8P0m",
        "outputId": "63f2349b-0da1-45fa-b25b-98a7931ff0ff"
      },
      "execution_count": 27,
      "outputs": [
        {
          "output_type": "execute_result",
          "data": {
            "text/plain": [
              "'그때 그 순간 그대로 (그그그)'"
            ],
            "application/vnd.google.colaboratory.intrinsic+json": {
              "type": "string"
            }
          },
          "metadata": {},
          "execution_count": 27
        }
      ]
    },
    {
      "cell_type": "code",
      "source": [
        "#가수\n",
        "\n",
        "artist=tr.select_one('.artist.ellipsis').get_text().strip()\n",
        "artist"
      ],
      "metadata": {
        "colab": {
          "base_uri": "https://localhost:8080/",
          "height": 35
        },
        "id": "nnnX4iCG8qK6",
        "outputId": "d1386640-5319-4cea-bf66-414a5633a79e"
      },
      "execution_count": 28,
      "outputs": [
        {
          "output_type": "execute_result",
          "data": {
            "text/plain": [
              "'WSG워너비 (가야G)'"
            ],
            "application/vnd.google.colaboratory.intrinsic+json": {
              "type": "string"
            }
          },
          "metadata": {},
          "execution_count": 28
        }
      ]
    },
    {
      "cell_type": "code",
      "source": [
        "#앨범\n",
        "\n",
        "album=tr.select_one('.albumtitle.ellipsis').get_text().strip()\n",
        "album"
      ],
      "metadata": {
        "colab": {
          "base_uri": "https://localhost:8080/",
          "height": 35
        },
        "id": "eTIVAfqk8xtB",
        "outputId": "c7158d7f-a5dd-438c-8a44-acb0aca1535d"
      },
      "execution_count": 29,
      "outputs": [
        {
          "output_type": "execute_result",
          "data": {
            "text/plain": [
              "'WSG워너비 1집'"
            ],
            "application/vnd.google.colaboratory.intrinsic+json": {
              "type": "string"
            }
          },
          "metadata": {},
          "execution_count": 29
        }
      ]
    },
    {
      "cell_type": "code",
      "source": [
        "lines=[]\n",
        "for tr in trs:\n",
        "  rank=int(tr.select_one('.number').get_text().strip().split('\\n')[0])\n",
        "  title=tr.select_one('.title.ellipsis').get_text().strip()\n",
        "  artist=tr.select_one('.artist.ellipsis').get_text().strip()\n",
        "  album=tr.select_one('.albumtitle.ellipsis').get_text().strip()\n",
        "  lines.append([rank,title,artist,album])\n"
      ],
      "metadata": {
        "id": "wJtTNYWGE523"
      },
      "execution_count": 30,
      "outputs": []
    },
    {
      "cell_type": "code",
      "source": [
        "# 데이터프레임\n",
        "df=pd.DataFrame(lines, columns=['순위','제목','가수','앨범'])\n",
        "df\n"
      ],
      "metadata": {
        "colab": {
          "base_uri": "https://localhost:8080/",
          "height": 1000
        },
        "id": "lLGk_5zF9CFS",
        "outputId": "de42f97f-9b82-4ee7-b173-4101e35f5e1d"
      },
      "execution_count": 31,
      "outputs": [
        {
          "output_type": "execute_result",
          "data": {
            "text/plain": [
              "    순위                                     제목                             가수  \\\n",
              "0    1                      그때 그 순간 그대로 (그그그)                   WSG워너비 (가야G)   \n",
              "1    2                              Attention                       NewJeans   \n",
              "2    3                                  보고싶었어                 WSG워너비 (4FIRE)   \n",
              "3    4                              LOVE DIVE                      IVE (아이브)   \n",
              "4    5                                 TOMBOY                        (여자)아이들   \n",
              "5    6                               SNEAKERS                      ITZY (있지)   \n",
              "6    7                              사랑은 늘 도망가                            임영웅   \n",
              "7    8                               Hype boy                       NewJeans   \n",
              "8    9                                   POP!                     나연 (TWICE)   \n",
              "9   10  That That (Prod. & Feat. SUGA of BTS)                       싸이 (Psy)   \n",
              "10  11                               우리들의 블루스                            임영웅   \n",
              "11  12                                 나의 X에게                             경서   \n",
              "12  13                   정이라고 하자 (Feat. 10CM)              BIG Naughty (서동현)   \n",
              "13  14                                 사랑인가 봐               멜로망스 (MeloMance)   \n",
              "14  15                            다시 만날 수 있을까                            임영웅   \n",
              "15  16                              이제 나만 믿어요                            임영웅   \n",
              "16  17                              FOREVER 1       소녀시대 (GIRLS' GENERATION)   \n",
              "17  18                             Love story                         볼빨간사춘기   \n",
              "18  19                                    무지개                            임영웅   \n",
              "19  20                        도깨비불 (Illusion)                          aespa   \n",
              "20  21                                    아버지                            임영웅   \n",
              "21  22                                  그라데이션                           10CM   \n",
              "22  23                                  Girls                          aespa   \n",
              "23  24                                LOVE me                      BE'O (비오)   \n",
              "24  25                              A bientot                            임영웅   \n",
              "25  26                    Clink Clink (클링 클링)                  WSG워너비 (오아시소)   \n",
              "26  27                                내가 아니라도                             주호   \n",
              "27  28                             손이 참 곱던 그대                            임영웅   \n",
              "28  29           바보에게 바보가 (웹툰 '연애의 발견' X 이석훈)                            이석훈   \n",
              "29  30                                 사랑해 진짜                            임영웅   \n",
              "30  31                   봄여름가을겨울 (Still Life)                   BIGBANG (빅뱅)   \n",
              "31  32                                    사랑역                            임영웅   \n",
              "32  33                                   취중고백                     김민석 (멜로망스)   \n",
              "33  34                                    신호등                            이무진   \n",
              "34  35                       That's Hilarious                   Charlie Puth   \n",
              "35  36                                   보금자리                            임영웅   \n",
              "36  37                          다정히 내 이름을 부르면                     경서예지 & 전건호   \n",
              "37  38                                   연애편지                            임영웅   \n",
              "38  39                               FEARLESS             LE SSERAFIM (르세라핌)   \n",
              "39  40                               사랑해요 그대를                            임영웅   \n",
              "40  41                     열이올라요 (Heart Burn)                             선미   \n",
              "41  42                                 ELEVEN                      IVE (아이브)   \n",
              "42  43                                   인생찬가                            임영웅   \n",
              "43  44                   GANADARA (Feat. 아이유)                            박재범   \n",
              "44  45                                   Stay  The Kid LAROI & Justin Bieber   \n",
              "45  46                              해요 (2022)                            #안녕   \n",
              "46  47                                 눈을 감으면                         WSG워너비   \n",
              "47  48                         Feel My Rhythm              Red Velvet (레드벨벳)   \n",
              "48  49                               Dynamite                          방탄소년단   \n",
              "49  50                                 MY BAG                        (여자)아이들   \n",
              "\n",
              "                                           앨범  \n",
              "0                                   WSG워너비 1집  \n",
              "1                 NewJeans 1st EP 'New Jeans'  \n",
              "2                                   WSG워너비 1집  \n",
              "3                                   LOVE DIVE  \n",
              "4                                 I NEVER DIE  \n",
              "5                                   CHECKMATE  \n",
              "6                          신사와 아가씨 OST Part.2  \n",
              "7                 NewJeans 1st EP 'New Jeans'  \n",
              "8                                   IM NAYEON  \n",
              "9                                         싸다9  \n",
              "10                                    IM HERO  \n",
              "11                                     나의 X에게  \n",
              "12                                    정이라고 하자  \n",
              "13                   사랑인가 봐 (사내맞선 OST 스페셜 트랙)  \n",
              "14                                    IM HERO  \n",
              "15                          내일은 미스터트롯 우승자 특전곡  \n",
              "16                  FOREVER 1 - The 7th Album  \n",
              "17                                      Seoul  \n",
              "18                                    IM HERO  \n",
              "19                 Girls - The 2nd Mini Album  \n",
              "20                                    IM HERO  \n",
              "21                                        5.3  \n",
              "22                 Girls - The 2nd Mini Album  \n",
              "23                                    LOVE me  \n",
              "24                                    IM HERO  \n",
              "25                                  WSG워너비 1집  \n",
              "26                                    내가 아니라도  \n",
              "27                                    IM HERO  \n",
              "28               바보에게 바보가 (웹툰 '연애의 발견' X 이석훈)  \n",
              "29                                    IM HERO  \n",
              "30                       봄여름가을겨울 (Still Life)  \n",
              "31                                    IM HERO  \n",
              "32                                       취중고백  \n",
              "33                                        신호등  \n",
              "34                           That's Hilarious  \n",
              "35                                    IM HERO  \n",
              "36                 다정히 내 이름을 부르면 (경서예지 x 전건호)  \n",
              "37                                    IM HERO  \n",
              "38                                   FEARLESS  \n",
              "39                                    IM HERO  \n",
              "40                         열이올라요 (Heart Burn)  \n",
              "41                                     ELEVEN  \n",
              "42                                    IM HERO  \n",
              "43                                   GANADARA  \n",
              "44                                       Stay  \n",
              "45                                  해요 (2022)  \n",
              "46                                     눈을 감으면  \n",
              "47  'The ReVe Festival 2022 - Feel My Rhythm'  \n",
              "48                    Dynamite (DayTime Ver.)  \n",
              "49                                I NEVER DIE  "
            ],
            "text/html": [
              "\n",
              "  <div id=\"df-011c30f9-e153-4327-9dc0-5d1774bd969f\">\n",
              "    <div class=\"colab-df-container\">\n",
              "      <div>\n",
              "<style scoped>\n",
              "    .dataframe tbody tr th:only-of-type {\n",
              "        vertical-align: middle;\n",
              "    }\n",
              "\n",
              "    .dataframe tbody tr th {\n",
              "        vertical-align: top;\n",
              "    }\n",
              "\n",
              "    .dataframe thead th {\n",
              "        text-align: right;\n",
              "    }\n",
              "</style>\n",
              "<table border=\"1\" class=\"dataframe\">\n",
              "  <thead>\n",
              "    <tr style=\"text-align: right;\">\n",
              "      <th></th>\n",
              "      <th>순위</th>\n",
              "      <th>제목</th>\n",
              "      <th>가수</th>\n",
              "      <th>앨범</th>\n",
              "    </tr>\n",
              "  </thead>\n",
              "  <tbody>\n",
              "    <tr>\n",
              "      <th>0</th>\n",
              "      <td>1</td>\n",
              "      <td>그때 그 순간 그대로 (그그그)</td>\n",
              "      <td>WSG워너비 (가야G)</td>\n",
              "      <td>WSG워너비 1집</td>\n",
              "    </tr>\n",
              "    <tr>\n",
              "      <th>1</th>\n",
              "      <td>2</td>\n",
              "      <td>Attention</td>\n",
              "      <td>NewJeans</td>\n",
              "      <td>NewJeans 1st EP 'New Jeans'</td>\n",
              "    </tr>\n",
              "    <tr>\n",
              "      <th>2</th>\n",
              "      <td>3</td>\n",
              "      <td>보고싶었어</td>\n",
              "      <td>WSG워너비 (4FIRE)</td>\n",
              "      <td>WSG워너비 1집</td>\n",
              "    </tr>\n",
              "    <tr>\n",
              "      <th>3</th>\n",
              "      <td>4</td>\n",
              "      <td>LOVE DIVE</td>\n",
              "      <td>IVE (아이브)</td>\n",
              "      <td>LOVE DIVE</td>\n",
              "    </tr>\n",
              "    <tr>\n",
              "      <th>4</th>\n",
              "      <td>5</td>\n",
              "      <td>TOMBOY</td>\n",
              "      <td>(여자)아이들</td>\n",
              "      <td>I NEVER DIE</td>\n",
              "    </tr>\n",
              "    <tr>\n",
              "      <th>5</th>\n",
              "      <td>6</td>\n",
              "      <td>SNEAKERS</td>\n",
              "      <td>ITZY (있지)</td>\n",
              "      <td>CHECKMATE</td>\n",
              "    </tr>\n",
              "    <tr>\n",
              "      <th>6</th>\n",
              "      <td>7</td>\n",
              "      <td>사랑은 늘 도망가</td>\n",
              "      <td>임영웅</td>\n",
              "      <td>신사와 아가씨 OST Part.2</td>\n",
              "    </tr>\n",
              "    <tr>\n",
              "      <th>7</th>\n",
              "      <td>8</td>\n",
              "      <td>Hype boy</td>\n",
              "      <td>NewJeans</td>\n",
              "      <td>NewJeans 1st EP 'New Jeans'</td>\n",
              "    </tr>\n",
              "    <tr>\n",
              "      <th>8</th>\n",
              "      <td>9</td>\n",
              "      <td>POP!</td>\n",
              "      <td>나연 (TWICE)</td>\n",
              "      <td>IM NAYEON</td>\n",
              "    </tr>\n",
              "    <tr>\n",
              "      <th>9</th>\n",
              "      <td>10</td>\n",
              "      <td>That That (Prod. &amp; Feat. SUGA of BTS)</td>\n",
              "      <td>싸이 (Psy)</td>\n",
              "      <td>싸다9</td>\n",
              "    </tr>\n",
              "    <tr>\n",
              "      <th>10</th>\n",
              "      <td>11</td>\n",
              "      <td>우리들의 블루스</td>\n",
              "      <td>임영웅</td>\n",
              "      <td>IM HERO</td>\n",
              "    </tr>\n",
              "    <tr>\n",
              "      <th>11</th>\n",
              "      <td>12</td>\n",
              "      <td>나의 X에게</td>\n",
              "      <td>경서</td>\n",
              "      <td>나의 X에게</td>\n",
              "    </tr>\n",
              "    <tr>\n",
              "      <th>12</th>\n",
              "      <td>13</td>\n",
              "      <td>정이라고 하자 (Feat. 10CM)</td>\n",
              "      <td>BIG Naughty (서동현)</td>\n",
              "      <td>정이라고 하자</td>\n",
              "    </tr>\n",
              "    <tr>\n",
              "      <th>13</th>\n",
              "      <td>14</td>\n",
              "      <td>사랑인가 봐</td>\n",
              "      <td>멜로망스 (MeloMance)</td>\n",
              "      <td>사랑인가 봐 (사내맞선 OST 스페셜 트랙)</td>\n",
              "    </tr>\n",
              "    <tr>\n",
              "      <th>14</th>\n",
              "      <td>15</td>\n",
              "      <td>다시 만날 수 있을까</td>\n",
              "      <td>임영웅</td>\n",
              "      <td>IM HERO</td>\n",
              "    </tr>\n",
              "    <tr>\n",
              "      <th>15</th>\n",
              "      <td>16</td>\n",
              "      <td>이제 나만 믿어요</td>\n",
              "      <td>임영웅</td>\n",
              "      <td>내일은 미스터트롯 우승자 특전곡</td>\n",
              "    </tr>\n",
              "    <tr>\n",
              "      <th>16</th>\n",
              "      <td>17</td>\n",
              "      <td>FOREVER 1</td>\n",
              "      <td>소녀시대 (GIRLS' GENERATION)</td>\n",
              "      <td>FOREVER 1 - The 7th Album</td>\n",
              "    </tr>\n",
              "    <tr>\n",
              "      <th>17</th>\n",
              "      <td>18</td>\n",
              "      <td>Love story</td>\n",
              "      <td>볼빨간사춘기</td>\n",
              "      <td>Seoul</td>\n",
              "    </tr>\n",
              "    <tr>\n",
              "      <th>18</th>\n",
              "      <td>19</td>\n",
              "      <td>무지개</td>\n",
              "      <td>임영웅</td>\n",
              "      <td>IM HERO</td>\n",
              "    </tr>\n",
              "    <tr>\n",
              "      <th>19</th>\n",
              "      <td>20</td>\n",
              "      <td>도깨비불 (Illusion)</td>\n",
              "      <td>aespa</td>\n",
              "      <td>Girls - The 2nd Mini Album</td>\n",
              "    </tr>\n",
              "    <tr>\n",
              "      <th>20</th>\n",
              "      <td>21</td>\n",
              "      <td>아버지</td>\n",
              "      <td>임영웅</td>\n",
              "      <td>IM HERO</td>\n",
              "    </tr>\n",
              "    <tr>\n",
              "      <th>21</th>\n",
              "      <td>22</td>\n",
              "      <td>그라데이션</td>\n",
              "      <td>10CM</td>\n",
              "      <td>5.3</td>\n",
              "    </tr>\n",
              "    <tr>\n",
              "      <th>22</th>\n",
              "      <td>23</td>\n",
              "      <td>Girls</td>\n",
              "      <td>aespa</td>\n",
              "      <td>Girls - The 2nd Mini Album</td>\n",
              "    </tr>\n",
              "    <tr>\n",
              "      <th>23</th>\n",
              "      <td>24</td>\n",
              "      <td>LOVE me</td>\n",
              "      <td>BE'O (비오)</td>\n",
              "      <td>LOVE me</td>\n",
              "    </tr>\n",
              "    <tr>\n",
              "      <th>24</th>\n",
              "      <td>25</td>\n",
              "      <td>A bientot</td>\n",
              "      <td>임영웅</td>\n",
              "      <td>IM HERO</td>\n",
              "    </tr>\n",
              "    <tr>\n",
              "      <th>25</th>\n",
              "      <td>26</td>\n",
              "      <td>Clink Clink (클링 클링)</td>\n",
              "      <td>WSG워너비 (오아시소)</td>\n",
              "      <td>WSG워너비 1집</td>\n",
              "    </tr>\n",
              "    <tr>\n",
              "      <th>26</th>\n",
              "      <td>27</td>\n",
              "      <td>내가 아니라도</td>\n",
              "      <td>주호</td>\n",
              "      <td>내가 아니라도</td>\n",
              "    </tr>\n",
              "    <tr>\n",
              "      <th>27</th>\n",
              "      <td>28</td>\n",
              "      <td>손이 참 곱던 그대</td>\n",
              "      <td>임영웅</td>\n",
              "      <td>IM HERO</td>\n",
              "    </tr>\n",
              "    <tr>\n",
              "      <th>28</th>\n",
              "      <td>29</td>\n",
              "      <td>바보에게 바보가 (웹툰 '연애의 발견' X 이석훈)</td>\n",
              "      <td>이석훈</td>\n",
              "      <td>바보에게 바보가 (웹툰 '연애의 발견' X 이석훈)</td>\n",
              "    </tr>\n",
              "    <tr>\n",
              "      <th>29</th>\n",
              "      <td>30</td>\n",
              "      <td>사랑해 진짜</td>\n",
              "      <td>임영웅</td>\n",
              "      <td>IM HERO</td>\n",
              "    </tr>\n",
              "    <tr>\n",
              "      <th>30</th>\n",
              "      <td>31</td>\n",
              "      <td>봄여름가을겨울 (Still Life)</td>\n",
              "      <td>BIGBANG (빅뱅)</td>\n",
              "      <td>봄여름가을겨울 (Still Life)</td>\n",
              "    </tr>\n",
              "    <tr>\n",
              "      <th>31</th>\n",
              "      <td>32</td>\n",
              "      <td>사랑역</td>\n",
              "      <td>임영웅</td>\n",
              "      <td>IM HERO</td>\n",
              "    </tr>\n",
              "    <tr>\n",
              "      <th>32</th>\n",
              "      <td>33</td>\n",
              "      <td>취중고백</td>\n",
              "      <td>김민석 (멜로망스)</td>\n",
              "      <td>취중고백</td>\n",
              "    </tr>\n",
              "    <tr>\n",
              "      <th>33</th>\n",
              "      <td>34</td>\n",
              "      <td>신호등</td>\n",
              "      <td>이무진</td>\n",
              "      <td>신호등</td>\n",
              "    </tr>\n",
              "    <tr>\n",
              "      <th>34</th>\n",
              "      <td>35</td>\n",
              "      <td>That's Hilarious</td>\n",
              "      <td>Charlie Puth</td>\n",
              "      <td>That's Hilarious</td>\n",
              "    </tr>\n",
              "    <tr>\n",
              "      <th>35</th>\n",
              "      <td>36</td>\n",
              "      <td>보금자리</td>\n",
              "      <td>임영웅</td>\n",
              "      <td>IM HERO</td>\n",
              "    </tr>\n",
              "    <tr>\n",
              "      <th>36</th>\n",
              "      <td>37</td>\n",
              "      <td>다정히 내 이름을 부르면</td>\n",
              "      <td>경서예지 &amp; 전건호</td>\n",
              "      <td>다정히 내 이름을 부르면 (경서예지 x 전건호)</td>\n",
              "    </tr>\n",
              "    <tr>\n",
              "      <th>37</th>\n",
              "      <td>38</td>\n",
              "      <td>연애편지</td>\n",
              "      <td>임영웅</td>\n",
              "      <td>IM HERO</td>\n",
              "    </tr>\n",
              "    <tr>\n",
              "      <th>38</th>\n",
              "      <td>39</td>\n",
              "      <td>FEARLESS</td>\n",
              "      <td>LE SSERAFIM (르세라핌)</td>\n",
              "      <td>FEARLESS</td>\n",
              "    </tr>\n",
              "    <tr>\n",
              "      <th>39</th>\n",
              "      <td>40</td>\n",
              "      <td>사랑해요 그대를</td>\n",
              "      <td>임영웅</td>\n",
              "      <td>IM HERO</td>\n",
              "    </tr>\n",
              "    <tr>\n",
              "      <th>40</th>\n",
              "      <td>41</td>\n",
              "      <td>열이올라요 (Heart Burn)</td>\n",
              "      <td>선미</td>\n",
              "      <td>열이올라요 (Heart Burn)</td>\n",
              "    </tr>\n",
              "    <tr>\n",
              "      <th>41</th>\n",
              "      <td>42</td>\n",
              "      <td>ELEVEN</td>\n",
              "      <td>IVE (아이브)</td>\n",
              "      <td>ELEVEN</td>\n",
              "    </tr>\n",
              "    <tr>\n",
              "      <th>42</th>\n",
              "      <td>43</td>\n",
              "      <td>인생찬가</td>\n",
              "      <td>임영웅</td>\n",
              "      <td>IM HERO</td>\n",
              "    </tr>\n",
              "    <tr>\n",
              "      <th>43</th>\n",
              "      <td>44</td>\n",
              "      <td>GANADARA (Feat. 아이유)</td>\n",
              "      <td>박재범</td>\n",
              "      <td>GANADARA</td>\n",
              "    </tr>\n",
              "    <tr>\n",
              "      <th>44</th>\n",
              "      <td>45</td>\n",
              "      <td>Stay</td>\n",
              "      <td>The Kid LAROI &amp; Justin Bieber</td>\n",
              "      <td>Stay</td>\n",
              "    </tr>\n",
              "    <tr>\n",
              "      <th>45</th>\n",
              "      <td>46</td>\n",
              "      <td>해요 (2022)</td>\n",
              "      <td>#안녕</td>\n",
              "      <td>해요 (2022)</td>\n",
              "    </tr>\n",
              "    <tr>\n",
              "      <th>46</th>\n",
              "      <td>47</td>\n",
              "      <td>눈을 감으면</td>\n",
              "      <td>WSG워너비</td>\n",
              "      <td>눈을 감으면</td>\n",
              "    </tr>\n",
              "    <tr>\n",
              "      <th>47</th>\n",
              "      <td>48</td>\n",
              "      <td>Feel My Rhythm</td>\n",
              "      <td>Red Velvet (레드벨벳)</td>\n",
              "      <td>'The ReVe Festival 2022 - Feel My Rhythm'</td>\n",
              "    </tr>\n",
              "    <tr>\n",
              "      <th>48</th>\n",
              "      <td>49</td>\n",
              "      <td>Dynamite</td>\n",
              "      <td>방탄소년단</td>\n",
              "      <td>Dynamite (DayTime Ver.)</td>\n",
              "    </tr>\n",
              "    <tr>\n",
              "      <th>49</th>\n",
              "      <td>50</td>\n",
              "      <td>MY BAG</td>\n",
              "      <td>(여자)아이들</td>\n",
              "      <td>I NEVER DIE</td>\n",
              "    </tr>\n",
              "  </tbody>\n",
              "</table>\n",
              "</div>\n",
              "      <button class=\"colab-df-convert\" onclick=\"convertToInteractive('df-011c30f9-e153-4327-9dc0-5d1774bd969f')\"\n",
              "              title=\"Convert this dataframe to an interactive table.\"\n",
              "              style=\"display:none;\">\n",
              "        \n",
              "  <svg xmlns=\"http://www.w3.org/2000/svg\" height=\"24px\"viewBox=\"0 0 24 24\"\n",
              "       width=\"24px\">\n",
              "    <path d=\"M0 0h24v24H0V0z\" fill=\"none\"/>\n",
              "    <path d=\"M18.56 5.44l.94 2.06.94-2.06 2.06-.94-2.06-.94-.94-2.06-.94 2.06-2.06.94zm-11 1L8.5 8.5l.94-2.06 2.06-.94-2.06-.94L8.5 2.5l-.94 2.06-2.06.94zm10 10l.94 2.06.94-2.06 2.06-.94-2.06-.94-.94-2.06-.94 2.06-2.06.94z\"/><path d=\"M17.41 7.96l-1.37-1.37c-.4-.4-.92-.59-1.43-.59-.52 0-1.04.2-1.43.59L10.3 9.45l-7.72 7.72c-.78.78-.78 2.05 0 2.83L4 21.41c.39.39.9.59 1.41.59.51 0 1.02-.2 1.41-.59l7.78-7.78 2.81-2.81c.8-.78.8-2.07 0-2.86zM5.41 20L4 18.59l7.72-7.72 1.47 1.35L5.41 20z\"/>\n",
              "  </svg>\n",
              "      </button>\n",
              "      \n",
              "  <style>\n",
              "    .colab-df-container {\n",
              "      display:flex;\n",
              "      flex-wrap:wrap;\n",
              "      gap: 12px;\n",
              "    }\n",
              "\n",
              "    .colab-df-convert {\n",
              "      background-color: #E8F0FE;\n",
              "      border: none;\n",
              "      border-radius: 50%;\n",
              "      cursor: pointer;\n",
              "      display: none;\n",
              "      fill: #1967D2;\n",
              "      height: 32px;\n",
              "      padding: 0 0 0 0;\n",
              "      width: 32px;\n",
              "    }\n",
              "\n",
              "    .colab-df-convert:hover {\n",
              "      background-color: #E2EBFA;\n",
              "      box-shadow: 0px 1px 2px rgba(60, 64, 67, 0.3), 0px 1px 3px 1px rgba(60, 64, 67, 0.15);\n",
              "      fill: #174EA6;\n",
              "    }\n",
              "\n",
              "    [theme=dark] .colab-df-convert {\n",
              "      background-color: #3B4455;\n",
              "      fill: #D2E3FC;\n",
              "    }\n",
              "\n",
              "    [theme=dark] .colab-df-convert:hover {\n",
              "      background-color: #434B5C;\n",
              "      box-shadow: 0px 1px 3px 1px rgba(0, 0, 0, 0.15);\n",
              "      filter: drop-shadow(0px 1px 2px rgba(0, 0, 0, 0.3));\n",
              "      fill: #FFFFFF;\n",
              "    }\n",
              "  </style>\n",
              "\n",
              "      <script>\n",
              "        const buttonEl =\n",
              "          document.querySelector('#df-011c30f9-e153-4327-9dc0-5d1774bd969f button.colab-df-convert');\n",
              "        buttonEl.style.display =\n",
              "          google.colab.kernel.accessAllowed ? 'block' : 'none';\n",
              "\n",
              "        async function convertToInteractive(key) {\n",
              "          const element = document.querySelector('#df-011c30f9-e153-4327-9dc0-5d1774bd969f');\n",
              "          const dataTable =\n",
              "            await google.colab.kernel.invokeFunction('convertToInteractive',\n",
              "                                                     [key], {});\n",
              "          if (!dataTable) return;\n",
              "\n",
              "          const docLinkHtml = 'Like what you see? Visit the ' +\n",
              "            '<a target=\"_blank\" href=https://colab.research.google.com/notebooks/data_table.ipynb>data table notebook</a>'\n",
              "            + ' to learn more about interactive tables.';\n",
              "          element.innerHTML = '';\n",
              "          dataTable['output_type'] = 'display_data';\n",
              "          await google.colab.output.renderOutput(dataTable, element);\n",
              "          const docLink = document.createElement('div');\n",
              "          docLink.innerHTML = docLinkHtml;\n",
              "          element.appendChild(docLink);\n",
              "        }\n",
              "      </script>\n",
              "    </div>\n",
              "  </div>\n",
              "  "
            ]
          },
          "metadata": {},
          "execution_count": 31
        }
      ]
    },
    {
      "cell_type": "code",
      "source": [
        "df.to_csv('지니Top50.csv',index=False)"
      ],
      "metadata": {
        "id": "34Fouc3HVNpw"
      },
      "execution_count": 32,
      "outputs": []
    }
  ]
}
