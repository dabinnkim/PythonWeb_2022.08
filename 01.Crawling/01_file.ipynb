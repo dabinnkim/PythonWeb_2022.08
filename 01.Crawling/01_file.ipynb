{
  "nbformat": 4,
  "nbformat_minor": 0,
  "metadata": {
    "colab": {
      "name": "01_file.ipynb",
      "provenance": []
    },
    "kernelspec": {
      "name": "python3",
      "display_name": "Python 3"
    },
    "language_info": {
      "name": "python"
    }
  },
  "cells": [
    {
      "cell_type": "markdown",
      "source": [
        "HTML 파일 열어서 원하는 정보 가져오기"
      ],
      "metadata": {
        "id": "lqiVQnjMkwGz"
      }
    },
    {
      "cell_type": "code",
      "execution_count": 1,
      "metadata": {
        "id": "0oohsvjrkbPl"
      },
      "outputs": [],
      "source": [
        "from bs4 import BeautifulSoup\n",
        "with open('example.html') as f:\n",
        "  soup=BeautifulSoup(f,'html.parser')"
      ]
    },
    {
      "cell_type": "code",
      "source": [
        "soup"
      ],
      "metadata": {
        "colab": {
          "base_uri": "https://localhost:8080/"
        },
        "id": "Eetz6If3lGHC",
        "outputId": "a90e1f6a-4cd4-4107-fff7-3b571e3e1d0d"
      },
      "execution_count": 2,
      "outputs": [
        {
          "output_type": "execute_result",
          "data": {
            "text/plain": [
              "<!DOCTYPE html>\n",
              "\n",
              "<html lang=\"en\">\n",
              "<head>\n",
              "<meta charset=\"utf-8\"/>\n",
              "<meta content=\"IE=edge\" http-equiv=\"X-UA-Compatible\"/>\n",
              "<meta content=\"width=device-width, initial-scale=1.0\" name=\"viewport\"/>\n",
              "<title>Web Crawling Example</title>\n",
              "</head>\n",
              "<body>\n",
              "<div>\n",
              "<p>a</p>\n",
              "<p>b</p>\n",
              "<p>c</p>\n",
              "</div>\n",
              "<div class=\"ex_class\">\n",
              "<p></p>\n",
              "<p></p>\n",
              "<p></p>\n",
              "</div>\n",
              "<div id=\"ex_id\">\n",
              "<p></p>\n",
              "<p></p>\n",
              "<p></p>\n",
              "</div>\n",
              "<h1>This is a heading.</h1>\n",
              "<p>This is a paragraph.</p>\n",
              "<p>This is another paragraph.</p>\n",
              "<a class=\"a\" href=\"www.naver.com\">Naver</a>\n",
              "</body>\n",
              "</html>"
            ]
          },
          "metadata": {},
          "execution_count": 2
        }
      ]
    },
    {
      "cell_type": "markdown",
      "source": [
        "###1.find(),find_all()"
      ],
      "metadata": {
        "id": "fGvR51x3qPfa"
      }
    },
    {
      "cell_type": "code",
      "source": [
        "#첫번째 div 태그의 내용을 가져오기\n",
        "first_div=soup.find('div')\n",
        "first_div"
      ],
      "metadata": {
        "colab": {
          "base_uri": "https://localhost:8080/"
        },
        "id": "e1AxjQw_lT8a",
        "outputId": "1c149785-e85b-4f38-bf3b-0b041baa4023"
      },
      "execution_count": 4,
      "outputs": [
        {
          "output_type": "execute_result",
          "data": {
            "text/plain": [
              "<div>\n",
              "<p>a</p>\n",
              "<p>b</p>\n",
              "<p>c</p>\n",
              "</div>"
            ]
          },
          "metadata": {},
          "execution_count": 4
        }
      ]
    },
    {
      "cell_type": "code",
      "source": [
        "#해당되는 태그를 모두 가져오기\n",
        "ps=first_div.find_all('p')\n",
        "ps"
      ],
      "metadata": {
        "colab": {
          "base_uri": "https://localhost:8080/"
        },
        "id": "UV_YL_ETptC_",
        "outputId": "1d085fae-7d86-48be-f958-3dff4cffad04"
      },
      "execution_count": 6,
      "outputs": [
        {
          "output_type": "execute_result",
          "data": {
            "text/plain": [
              "[<p>a</p>, <p>b</p>, <p>c</p>]"
            ]
          },
          "metadata": {},
          "execution_count": 6
        }
      ]
    },
    {
      "cell_type": "code",
      "source": [
        "for ptag in ps :\n",
        "  print(ptag)"
      ],
      "metadata": {
        "colab": {
          "base_uri": "https://localhost:8080/"
        },
        "id": "3O8GET_Pp4rt",
        "outputId": "62f3297e-6d10-45ba-c562-ad235aa4ce89"
      },
      "execution_count": 8,
      "outputs": [
        {
          "output_type": "stream",
          "name": "stdout",
          "text": [
            "<p>a</p>\n",
            "<p>b</p>\n",
            "<p>c</p>\n"
          ]
        }
      ]
    },
    {
      "cell_type": "code",
      "source": [
        "ps[1]"
      ],
      "metadata": {
        "colab": {
          "base_uri": "https://localhost:8080/"
        },
        "id": "x9hV4sSPqCga",
        "outputId": "8efbf73a-85cb-463f-b506-f18213668c4e"
      },
      "execution_count": 9,
      "outputs": [
        {
          "output_type": "execute_result",
          "data": {
            "text/plain": [
              "<p>b</p>"
            ]
          },
          "metadata": {},
          "execution_count": 9
        }
      ]
    },
    {
      "cell_type": "markdown",
      "source": [
        "###2.CSS Selector\n",
        "select_one() : 태그 하나만 가져옴<br>\n",
        "select() : 태그 모두 가져옴"
      ],
      "metadata": {
        "id": "bp4C0FbYqSZe"
      }
    },
    {
      "cell_type": "code",
      "source": [
        "#class 명이 ex_class인 태그의 정보를 가져오기\n",
        "second_div=soup.select_one('.ex_class')"
      ],
      "metadata": {
        "id": "YO_KCT1dqjD3"
      },
      "execution_count": 10,
      "outputs": []
    },
    {
      "cell_type": "code",
      "source": [
        "second_div"
      ],
      "metadata": {
        "colab": {
          "base_uri": "https://localhost:8080/"
        },
        "id": "vuFYhcNiq2Vu",
        "outputId": "3981defb-6c01-4d6d-a0d2-55571296886a"
      },
      "execution_count": 13,
      "outputs": [
        {
          "output_type": "execute_result",
          "data": {
            "text/plain": [
              "<div class=\"ex_class\">\n",
              "<p></p>\n",
              "<p></p>\n",
              "<p></p>\n",
              "</div>"
            ]
          },
          "metadata": {},
          "execution_count": 13
        }
      ]
    },
    {
      "cell_type": "code",
      "source": [
        "#id 값이 ex_id인 태그의 정보를 가져오기 div한덩어리만 가져옴\n",
        "third_div=soup.select_one('#ex_id')\n",
        "third_div"
      ],
      "metadata": {
        "colab": {
          "base_uri": "https://localhost:8080/"
        },
        "id": "BZUXbH8yq6qY",
        "outputId": "ca5957f3-f1b3-46e8-a8f0-3b6a2653b2f6"
      },
      "execution_count": 15,
      "outputs": [
        {
          "output_type": "execute_result",
          "data": {
            "text/plain": [
              "<div id=\"ex_id\">\n",
              "<p></p>\n",
              "<p></p>\n",
              "<p></p>\n",
              "</div>"
            ]
          },
          "metadata": {},
          "execution_count": 15
        }
      ]
    },
    {
      "cell_type": "code",
      "source": [
        "#div 태그를 모두 가져오기\n",
        "all_divs=soup.select('div')\n",
        "len(all_divs) #div덩어리가 3개 있음"
      ],
      "metadata": {
        "colab": {
          "base_uri": "https://localhost:8080/"
        },
        "id": "SE4v0kY-rY05",
        "outputId": "19648113-de46-43fd-bf97-1a7c5190c12d"
      },
      "execution_count": 17,
      "outputs": [
        {
          "output_type": "execute_result",
          "data": {
            "text/plain": [
              "3"
            ]
          },
          "metadata": {},
          "execution_count": 17
        }
      ]
    },
    {
      "cell_type": "code",
      "source": [
        "all_divs=soup.select('div')#div 태그 모두 가져옴\n",
        "all_divs"
      ],
      "metadata": {
        "colab": {
          "base_uri": "https://localhost:8080/"
        },
        "id": "EwpEuZIArt8S",
        "outputId": "4172824f-2294-45f0-e1b6-7380f2745018"
      },
      "execution_count": 18,
      "outputs": [
        {
          "output_type": "execute_result",
          "data": {
            "text/plain": [
              "[<div>\n",
              " <p>a</p>\n",
              " <p>b</p>\n",
              " <p>c</p>\n",
              " </div>, <div class=\"ex_class\">\n",
              " <p></p>\n",
              " <p></p>\n",
              " <p></p>\n",
              " </div>, <div id=\"ex_id\">\n",
              " <p></p>\n",
              " <p></p>\n",
              " <p></p>\n",
              " </div>]"
            ]
          },
          "metadata": {},
          "execution_count": 18
        }
      ]
    },
    {
      "cell_type": "code",
      "source": [
        "#모든 p 태그\n",
        "all_ps=soup.find_all('p')\n",
        "len(all_ps)"
      ],
      "metadata": {
        "colab": {
          "base_uri": "https://localhost:8080/"
        },
        "id": "23dGt7QBsGLm",
        "outputId": "6dbff193-ce9c-4eaf-bf49-1d75c1f58e7b"
      },
      "execution_count": 20,
      "outputs": [
        {
          "output_type": "execute_result",
          "data": {
            "text/plain": [
              "11"
            ]
          },
          "metadata": {},
          "execution_count": 20
        }
      ]
    },
    {
      "cell_type": "code",
      "source": [
        "all_ps=soup.find_all('p')\n",
        "all_ps"
      ],
      "metadata": {
        "colab": {
          "base_uri": "https://localhost:8080/"
        },
        "id": "e_A6Lb3TsU5j",
        "outputId": "1960b642-c1b0-485f-b452-1bf6eae4513a"
      },
      "execution_count": 22,
      "outputs": [
        {
          "output_type": "execute_result",
          "data": {
            "text/plain": [
              "[<p>a</p>,\n",
              " <p>b</p>,\n",
              " <p>c</p>,\n",
              " <p></p>,\n",
              " <p></p>,\n",
              " <p></p>,\n",
              " <p></p>,\n",
              " <p></p>,\n",
              " <p></p>,\n",
              " <p>This is a paragraph.</p>,\n",
              " <p>This is another paragraph.</p>]"
            ]
          },
          "metadata": {},
          "execution_count": 22
        }
      ]
    },
    {
      "cell_type": "code",
      "source": [
        "#div의 자식인 p 태그\n",
        "div_ps=soup.select('div p') #->괄호안 div가 아버지, p가 자식\n",
        "div_ps"
      ],
      "metadata": {
        "colab": {
          "base_uri": "https://localhost:8080/"
        },
        "id": "uJusiEh2scgw",
        "outputId": "a20ae374-ce90-4443-dfd5-5227b6f7bb90"
      },
      "execution_count": 24,
      "outputs": [
        {
          "output_type": "execute_result",
          "data": {
            "text/plain": [
              "[<p>a</p>,\n",
              " <p>b</p>,\n",
              " <p>c</p>,\n",
              " <p></p>,\n",
              " <p></p>,\n",
              " <p></p>,\n",
              " <p></p>,\n",
              " <p></p>,\n",
              " <p></p>]"
            ]
          },
          "metadata": {},
          "execution_count": 24
        }
      ]
    },
    {
      "cell_type": "code",
      "source": [
        "len(div_ps)#자식인 태그 갯수"
      ],
      "metadata": {
        "colab": {
          "base_uri": "https://localhost:8080/"
        },
        "id": "R64yf3xzspHR",
        "outputId": "50f16556-0124-447c-80cc-1bec58b86cf3"
      },
      "execution_count": 25,
      "outputs": [
        {
          "output_type": "execute_result",
          "data": {
            "text/plain": [
              "9"
            ]
          },
          "metadata": {},
          "execution_count": 25
        }
      ]
    },
    {
      "cell_type": "markdown",
      "source": [
        "###3.결과"
      ],
      "metadata": {
        "id": "76mIJ-SRsuOi"
      }
    },
    {
      "cell_type": "code",
      "source": [
        "soup.find('h1')#text만 안가져와짐"
      ],
      "metadata": {
        "colab": {
          "base_uri": "https://localhost:8080/"
        },
        "id": "wV3aYuXNs-pz",
        "outputId": "9e578e07-4002-49f8-9cfb-c56abc79da76"
      },
      "execution_count": 29,
      "outputs": [
        {
          "output_type": "execute_result",
          "data": {
            "text/plain": [
              "<h1>This is a heading.</h1>"
            ]
          },
          "metadata": {},
          "execution_count": 29
        }
      ]
    },
    {
      "cell_type": "code",
      "source": [
        "soup.find('h1').get_text()#h1태그에서 text를 가져온다"
      ],
      "metadata": {
        "colab": {
          "base_uri": "https://localhost:8080/",
          "height": 35
        },
        "id": "P6Gl4-jhs3J4",
        "outputId": "edab24fd-4358-4942-dfb9-584d7afffa5e"
      },
      "execution_count": 27,
      "outputs": [
        {
          "output_type": "execute_result",
          "data": {
            "text/plain": [
              "'This is a heading.'"
            ],
            "application/vnd.google.colaboratory.intrinsic+json": {
              "type": "string"
            }
          },
          "metadata": {},
          "execution_count": 27
        }
      ]
    },
    {
      "cell_type": "code",
      "source": [
        "#태그 안의 내용 가져오기\n",
        "h1_info=soup.find('h1').get_text()\n",
        "h1_info"
      ],
      "metadata": {
        "colab": {
          "base_uri": "https://localhost:8080/",
          "height": 35
        },
        "id": "8X4IoKFHtEDg",
        "outputId": "b52c5aab-da1e-415a-a2be-55cfdac6e7b7"
      },
      "execution_count": 30,
      "outputs": [
        {
          "output_type": "execute_result",
          "data": {
            "text/plain": [
              "'This is a heading.'"
            ],
            "application/vnd.google.colaboratory.intrinsic+json": {
              "type": "string"
            }
          },
          "metadata": {},
          "execution_count": 30
        }
      ]
    },
    {
      "cell_type": "code",
      "source": [
        "second_div.string"
      ],
      "metadata": {
        "id": "hFTKCWj9tSm0"
      },
      "execution_count": 32,
      "outputs": []
    },
    {
      "cell_type": "code",
      "source": [
        "soup.find('a').get_text()"
      ],
      "metadata": {
        "colab": {
          "base_uri": "https://localhost:8080/",
          "height": 35
        },
        "id": "ab0dJvBotW0z",
        "outputId": "9d0c0dbd-ec5c-41e5-b6c4-0a779530f386"
      },
      "execution_count": 34,
      "outputs": [
        {
          "output_type": "execute_result",
          "data": {
            "text/plain": [
              "'Naver'"
            ],
            "application/vnd.google.colaboratory.intrinsic+json": {
              "type": "string"
            }
          },
          "metadata": {},
          "execution_count": 34
        }
      ]
    },
    {
      "cell_type": "code",
      "source": [
        "#속성값 가져오기\n",
        "soup.find('a')['href']#주소가져오기"
      ],
      "metadata": {
        "colab": {
          "base_uri": "https://localhost:8080/",
          "height": 35
        },
        "id": "Q6jYTTJJtre9",
        "outputId": "d5ced737-d082-4ade-9520-4f19320f80d3"
      },
      "execution_count": 35,
      "outputs": [
        {
          "output_type": "execute_result",
          "data": {
            "text/plain": [
              "'www.naver.com'"
            ],
            "application/vnd.google.colaboratory.intrinsic+json": {
              "type": "string"
            }
          },
          "metadata": {},
          "execution_count": 35
        }
      ]
    }
  ]
}